{
 "cells": [
  {
   "cell_type": "code",
   "execution_count": 137,
   "id": "square-dating",
   "metadata": {},
   "outputs": [],
   "source": [
    "import pandas as pd\n",
    "# !pip install opencv-python\n",
    "import cv2\n",
    "# !pip install tensorflow\n",
    "import numpy as np"
   ]
  },
  {
   "cell_type": "code",
   "execution_count": 76,
   "id": "great-treasure",
   "metadata": {},
   "outputs": [
    {
     "name": "stdout",
     "output_type": "stream",
     "text": [
      "number of species:  120\n"
     ]
    }
   ],
   "source": [
    "import os\n",
    "dir_images = os.listdir('.\\Images')\n",
    "breeds = [x.split('-')[1:] for x in dir_images]\n",
    "cleaned_names = []\n",
    "for i in breeds:\n",
    "    insert = ''\n",
    "    for x in i:\n",
    "        insert += x\n",
    "    cleaned_names += [insert]\n",
    "print('number of species: ' , len(cleaned_names))"
   ]
  },
  {
   "cell_type": "code",
   "execution_count": 77,
   "id": "imposed-exploration",
   "metadata": {},
   "outputs": [],
   "source": [
    "lengths = []\n",
    "names = []\n",
    "for i in dir_images:\n",
    "    name = os.listdir('.\\Images\\{}'.format(i))\n",
    "    names += [name]\n",
    "    lengths += [len(name)]"
   ]
  },
  {
   "cell_type": "code",
   "execution_count": 203,
   "id": "covered-consciousness",
   "metadata": {},
   "outputs": [],
   "source": [
    "df = pd.DataFrame({'file_name': dir_images, 'breed': cleaned_names, 'total_pics': lengths, 'file_names': names,})"
   ]
  },
  {
   "cell_type": "code",
   "execution_count": 204,
   "id": "unlikely-distributor",
   "metadata": {},
   "outputs": [],
   "source": [
    "shapes = []\n",
    "for j in df['file_name']:\n",
    "    for i in df[df['file_name']==j]['file_names'].values[0]:\n",
    "        string = '.\\Images\\{}\\{}'.format(j,i)\n",
    "        im = cv2.imread(string)\n",
    "        shapes += [im.shape]\n",
    "    "
   ]
  },
  {
   "cell_type": "code",
   "execution_count": 205,
   "id": "accepted-geography",
   "metadata": {},
   "outputs": [
    {
     "name": "stdout",
     "output_type": "stream",
     "text": [
      "Mean img Height: \t 385.861\n",
      "Mean img Width: \t 442.532\n",
      "\n",
      "Med img Height: \t 375.0\n",
      "Med img Width: \t\t 500.0\n",
      "\n",
      "Average # pics: \t 171.5\n",
      "Minimum # pics: \t 148\n",
      "Maximum # pics: \t 252\n"
     ]
    }
   ],
   "source": [
    "shapes = np.array(shapes)\n",
    "print('Mean img Height: \\t', round(shapes[:,0].mean(),3))\n",
    "print('Mean img Width: \\t', round(shapes[:,1].mean(),3))\n",
    "print()\n",
    "print('Med img Height: \\t', np.median(shapes[:,0]))\n",
    "print('Med img Width: \\t\\t', np.median(shapes[:,1]))\n",
    "print()\n",
    "print('Average # pics: \\t', df['total_pics'].mean())\n",
    "print('Minimum # pics: \\t', df['total_pics'].min())\n",
    "print('Maximum # pics: \\t', df['total_pics'].max())"
   ]
  },
  {
   "cell_type": "code",
   "execution_count": 207,
   "id": "circular-consultancy",
   "metadata": {},
   "outputs": [
    {
     "data": {
      "text/plain": [
       "<AxesSubplot:>"
      ]
     },
     "execution_count": 207,
     "metadata": {},
     "output_type": "execute_result"
    },
    {
     "data": {
      "image/png": "[encoded data removed]",
      "text/plain": [
       "<Figure size 432x288 with 1 Axes>"
      ]
     },
     "metadata": {
      "needs_background": "light"
     },
     "output_type": "display_data"
    }
   ],
   "source": [
    "df['total_pics'].plot(kind = 'box', vert = False)#.get_figure().savefig('output.png')"
   ]
  },
  {
   "cell_type": "code",
   "execution_count": 230,
   "id": "presidential-patrick",
   "metadata": {},
   "outputs": [
    {
     "data": {
      "image/png": "[encoded data removed]",
      "text/plain": [
       "<Figure size 432x288 with 1 Axes>"
      ]
     },
     "metadata": {
      "needs_background": "light"
     },
     "output_type": "display_data"
    }
   ],
   "source": [
    "df.sort_values('total_pics').iloc[:50][['breed', 'total_pics']].plot(kind = 'hist').get_figure().savefig('output2.png')"
   ]
  },
  {
   "cell_type": "markdown",
   "id": "clear-examination",
   "metadata": {},
   "source": [
    "# Data\n",
    "You should have obtained and cleaned (if necessary) data you will use for this project.\n",
    "\n",
    "Please give the following infomration for each dataset you are using\n",
    "\n",
    "- link/reference to obtain it\n",
    "- description of the size of the dataset (# of variables, # of observations)\n",
    "- what an observation consists of\n",
    "- what some critical variables are, how they are represented\n",
    "- any special handling, transformations, cleaning, etc you have done should be demonstrated here!"
   ]
  },
  {
   "cell_type": "markdown",
   "id": "requested-dryer",
   "metadata": {},
   "source": [
    "### Main EDA / stats\n",
    "- means counts n stuff"
   ]
  },
  {
   "cell_type": "markdown",
   "id": "cross-button",
   "metadata": {},
   "source": [
    "### Import Pictures/Stats"
   ]
  },
  {
   "cell_type": "markdown",
   "id": "european-flavor",
   "metadata": {},
   "source": [
    "# Preliminary results\n",
    "Please show any preliminary results you have managed to obtain.\n",
    "\n",
    "Examples would include:\n",
    "\n",
    "- Analyzing the suitability of a dataset or alogrithm for prediction/solving your problem\n",
    "- Performing feature selection or hand-designing features from the raw data. Describe the features available/created and/or show the code for selection/creation\n",
    "- Showing the performance of a base model/hyper-parameter setting. Solve the task with one \"default\" algorithm and characterize the performance level of that base model.\n",
    "- Learning curves or validation curves for a particular model\n",
    "Tables/graphs showing the performance of different models/hyper-parameters"
   ]
  },
  {
   "cell_type": "markdown",
   "id": "occasional-status",
   "metadata": {},
   "source": [
    "### Discussion ~ look importing annotations"
   ]
  },
  {
   "cell_type": "markdown",
   "id": "impressive-fortune",
   "metadata": {},
   "source": [
    "### Algorithm\n",
    "- \"Hopefully you have examined at least one algorithm  for your prediction task and have some sort of \"baseline\" performance to compare other models against.\""
   ]
  },
  {
   "cell_type": "code",
   "execution_count": null,
   "id": "governmental-thousand",
   "metadata": {},
   "outputs": [],
   "source": []
  }
 ],
 "metadata": {
  "kernelspec": {
   "display_name": "Python 3",
   "language": "python",
   "name": "python3"
  },
  "language_info": {
   "codemirror_mode": {
    "name": "ipython",
    "version": 3
   },
   "file_extension": ".py",
   "mimetype": "text/x-python",
   "name": "python",
   "nbconvert_exporter": "python",
   "pygments_lexer": "ipython3",
   "version": "3.7.9"
  }
 },
 "nbformat": 4,
 "nbformat_minor": 5
}
